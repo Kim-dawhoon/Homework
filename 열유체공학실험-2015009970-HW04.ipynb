{
  "nbformat": 4,
  "nbformat_minor": 0,
  "metadata": {
    "colab": {
      "name": "Untitled2.ipynb",
      "provenance": [],
      "include_colab_link": true
    },
    "kernelspec": {
      "name": "python3",
      "display_name": "Python 3"
    }
  },
  "cells": [
    {
      "cell_type": "markdown",
      "metadata": {
        "id": "view-in-github",
        "colab_type": "text"
      },
      "source": [
        "<a href=\"https://colab.research.google.com/github/Kim-dawhoon/Homework/blob/master/%EC%97%B4%EC%9C%A0%EC%B2%B4%EA%B3%B5%ED%95%99%EC%8B%A4%ED%97%98-2015009970-HW04.ipynb\" target=\"_parent\"><img src=\"https://colab.research.google.com/assets/colab-badge.svg\" alt=\"Open In Colab\"/></a>"
      ]
    },
    {
      "cell_type": "markdown",
      "metadata": {
        "id": "gKPX6I1Fb2fq",
        "colab_type": "text"
      },
      "source": [
        "4번\n",
        "파일 - 새 Python3 노트를 통해 새 노트북을 만드시오.\n",
        "\n",
        "Python을 활용하여 구구단을 출력하는 함수를 만드시오.\n",
        "\n",
        "입력은 하나의 정수를 받으며, 출력은 해당 정수의 구구단을 총 9줄로 출력함.\n",
        "\n",
        "Python 기본 문법을 사용한 방법, numpy를 사용한 방법, numba.jit을 사용한 방법, cuda를 사용한 방법 넷을 전부 활용하여 결과를 비교하시오.\n",
        "\n",
        "파일 - Github에 사본 저장을 통해 1번 과제에서 복사한 저장소에 아래와 같은 이름으로 저장하시오.\n",
        "\n",
        "열유체공학실험-2015009970-HW04\n",
        "\n",
        "다른 제목인 경우 미제출 처리 될 수 있음."
      ]
    },
    {
      "cell_type": "code",
      "metadata": {
        "id": "wYBsPK1AcjKF",
        "colab_type": "code",
        "colab": {}
      },
      "source": [
        "def func_1(x):\n",
        "  while True:\n",
        "      for i in range(1,10):\n",
        "        print(int(x), \"X\", i , \"=\", i*int(x))\n",
        "      break "
      ],
      "execution_count": 0,
      "outputs": []
    },
    {
      "cell_type": "code",
      "metadata": {
        "id": "KS-It4HTg5-C",
        "colab_type": "code",
        "colab": {}
      },
      "source": [
        "import numpy as np\n",
        "y = np.arange(1,10)\n",
        "\n",
        "def func_2(x):\n",
        "  print(int(x), \"X\", y[0], \"=\", int(x) * y[0])\n",
        "  print(int(x), \"X\", y[1], \"=\", int(x) * y[1])\n",
        "  print(int(x), \"X\", y[2], \"=\", int(x) * y[2])\n",
        "  print(int(x), \"X\", y[3], \"=\", int(x) * y[3])\n",
        "  print(int(x), \"X\", y[4], \"=\", int(x) * y[4]) \n",
        "  print(int(x), \"X\", y[5], \"=\", int(x) * y[5])\n",
        "  print(int(x), \"X\", y[6], \"=\", int(x) * y[6])\n",
        "  print(int(x), \"X\", y[7], \"=\", int(x) * y[7])\n",
        "  print(int(x), \"X\", y[8], \"=\", int(x) * y[8])"
      ],
      "execution_count": 0,
      "outputs": []
    },
    {
      "cell_type": "code",
      "metadata": {
        "id": "xL3YY-9wf4wo",
        "colab_type": "code",
        "colab": {
          "base_uri": "https://localhost:8080/",
          "height": 215
        },
        "outputId": "ab78e446-679f-42ad-88f8-1328d7556c34"
      },
      "source": [
        "func_1(x = input(\"숫자를 입력하시오:\"))\n",
        "%timeit func_1"
      ],
      "execution_count": 125,
      "outputs": [
        {
          "output_type": "stream",
          "text": [
            "숫자를 입력하시오:2\n",
            "2 X 1 = 2\n",
            "2 X 2 = 4\n",
            "2 X 3 = 6\n",
            "2 X 4 = 8\n",
            "2 X 5 = 10\n",
            "2 X 6 = 12\n",
            "2 X 7 = 14\n",
            "2 X 8 = 16\n",
            "2 X 9 = 18\n",
            "100000000 loops, best of 3: 17 ns per loop\n"
          ],
          "name": "stdout"
        }
      ]
    },
    {
      "cell_type": "code",
      "metadata": {
        "id": "Iqs9_Ly1g4RX",
        "colab_type": "code",
        "colab": {
          "base_uri": "https://localhost:8080/",
          "height": 233
        },
        "outputId": "a966eef3-40e0-43ca-cf55-d3af70894b2e"
      },
      "source": [
        "func_2(x = input(\"숫자를 입력하시오:\"))\n",
        "%timeit func_2"
      ],
      "execution_count": 135,
      "outputs": [
        {
          "output_type": "stream",
          "text": [
            "숫자를 입력하시오:2\n",
            "2 X 1 = 2\n",
            "2 X 2 = 4\n",
            "2 X 3 = 6\n",
            "2 X 4 = 8\n",
            "2 X 5 = 10\n",
            "2 X 6 = 12\n",
            "2 X 7 = 14\n",
            "2 X 8 = 16\n",
            "2 X 9 = 18\n",
            "The slowest run took 63.84 times longer than the fastest. This could mean that an intermediate result is being cached.\n",
            "100000000 loops, best of 3: 17.2 ns per loop\n"
          ],
          "name": "stdout"
        }
      ]
    },
    {
      "cell_type": "code",
      "metadata": {
        "id": "OTCcaCk0kH_W",
        "colab_type": "code",
        "colab": {
          "base_uri": "https://localhost:8080/",
          "height": 53
        },
        "outputId": "725098a2-29cc-4b40-87a1-b0a82360de32"
      },
      "source": [
        "import numba\n",
        "func_1_jit = numba.jit(func_1)\n",
        "%timeit func_1_jit\n",
        "func_2_jit = numba.jit(func_2)\n",
        "%timeit func_2_jit"
      ],
      "execution_count": 136,
      "outputs": [
        {
          "output_type": "stream",
          "text": [
            "10000000 loops, best of 3: 19.9 ns per loop\n",
            "10000000 loops, best of 3: 27.7 ns per loop\n"
          ],
          "name": "stdout"
        }
      ]
    }
  ]
}