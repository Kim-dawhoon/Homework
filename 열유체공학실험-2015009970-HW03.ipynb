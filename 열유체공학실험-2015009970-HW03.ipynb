{
  "nbformat": 4,
  "nbformat_minor": 0,
  "metadata": {
    "colab": {
      "name": "Untitled1.ipynb",
      "provenance": [],
      "include_colab_link": true
    },
    "kernelspec": {
      "name": "python3",
      "display_name": "Python 3"
    }
  },
  "cells": [
    {
      "cell_type": "markdown",
      "metadata": {
        "id": "view-in-github",
        "colab_type": "text"
      },
      "source": [
        "<a href=\"https://colab.research.google.com/github/Kim-dawhoon/Homework/blob/master/%EC%97%B4%EC%9C%A0%EC%B2%B4%EA%B3%B5%ED%95%99%EC%8B%A4%ED%97%98-2015009970-HW03.ipynb\" target=\"_parent\"><img src=\"https://colab.research.google.com/assets/colab-badge.svg\" alt=\"Open In Colab\"/></a>"
      ]
    },
    {
      "cell_type": "code",
      "metadata": {
        "id": "LVaWBGW7SSb3",
        "colab_type": "code",
        "colab": {}
      },
      "source": [
        "# 과제\n",
        "## 3번\n",
        "* 파일 - 새 Python3 노트를 통해 새 노트북을 만드시오.\n",
        "* Numpy를 활용하여 반복문을 사용하지 않고 구구단을 출력하는 함수를 만드시오.\n",
        " * 입력은 하나의 정수를 받으며, 출력은 해당 정수의 구구단을 한 줄로 출력함.\n",
        "* 파일 - Github에 사본 저장을 통해 1번 과제에서 복사한 저장소에 아래와 같은 이름으로 저장하시오.\n",
        " * 열유체공학실험-2015009970-HW03\n",
        " * 다른 제목인 경우 미제출 처리 될 수 있음."
      ],
      "execution_count": 0,
      "outputs": []
    },
    {
      "cell_type": "code",
      "metadata": {
        "id": "LuFWy6FMSh8y",
        "colab_type": "code",
        "colab": {
          "base_uri": "https://localhost:8080/",
          "height": 179
        },
        "outputId": "de5d55fb-cd9e-4490-9269-0da34625e548"
      },
      "source": [
        "import numpy as np\n",
        "x = np.arange(1,10)\n",
        "print(\"x\", x)\n",
        "print(\"2단 : 2 * x =\", 2 * x)\n",
        "print(\"3단 : 3 * x =\", 3 * x)\n",
        "print(\"4단 : 4 * x =\", 4 * x)\n",
        "print(\"5단 : 5 * x =\", 5 * x)\n",
        "print(\"6단 : 6 * x =\", 6 * x)\n",
        "print(\"7단 : 7 * x =\", 7 * x)\n",
        "print(\"8단 : 8 * x =\", 8 * x)\n",
        "print(\"9단 : 9 * x =\", 9 * x)"
      ],
      "execution_count": 19,
      "outputs": [
        {
          "output_type": "stream",
          "text": [
            "x [1 2 3 4 5 6 7 8 9]\n",
            "2단 : 2 * x = [ 2  4  6  8 10 12 14 16 18]\n",
            "3단 : 3 * x = [ 3  6  9 12 15 18 21 24 27]\n",
            "4단 : 4 * x = [ 4  8 12 16 20 24 28 32 36]\n",
            "5단 : 5 * x = [ 5 10 15 20 25 30 35 40 45]\n",
            "6단 : 6 * x = [ 6 12 18 24 30 36 42 48 54]\n",
            "7단 : 7 * x = [ 7 14 21 28 35 42 49 56 63]\n",
            "8단 : 8 * x = [ 8 16 24 32 40 48 56 64 72]\n",
            "9단 : 9 * x = [ 9 18 27 36 45 54 63 72 81]\n"
          ],
          "name": "stdout"
        }
      ]
    }
  ]
}